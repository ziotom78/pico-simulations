{
 "cells": [
  {
   "cell_type": "code",
   "execution_count": 79,
   "metadata": {},
   "outputs": [
    {
     "name": "stdout",
     "output_type": "stream",
     "text": [
      "/global/cscratch1/sd/zonca/pico-simulations/full_focal_plane\r\n"
     ]
    }
   ],
   "source": [
    "!pwd"
   ]
  },
  {
   "cell_type": "code",
   "execution_count": 80,
   "metadata": {},
   "outputs": [],
   "source": [
    "import pandas as pd\n",
    "import numpy as np"
   ]
  },
  {
   "cell_type": "code",
   "execution_count": 81,
   "metadata": {},
   "outputs": [],
   "source": [
    "original_pixels = pd.read_csv(\"original_pixels.txt\", delim_whitespace=True, header=None)"
   ]
  },
  {
   "cell_type": "code",
   "execution_count": 82,
   "metadata": {},
   "outputs": [],
   "source": [
    "pixels = pd.read_csv(\"pixels.txt\", delim_whitespace=True, header=None)"
   ]
  },
  {
   "cell_type": "code",
   "execution_count": 83,
   "metadata": {},
   "outputs": [],
   "source": [
    "bands = pd.read_csv(\"original_bands.txt\", delim_whitespace=True).set_index(\"band\")"
   ]
  },
  {
   "cell_type": "markdown",
   "metadata": {},
   "source": [
    "## Scale the white noise level down\n",
    "\n",
    "The sparse focal plane means we are reducing the number of pixels per wafer to 7 for all bands.\n",
    "Therefore the number of detectors is reduced by a factor of $\\dfrac{7}{original\\_pixel\\_per\\_wafer}$, for example for band 9 it is a factor of $\\dfrac{7}{19}$.\n",
    "\n",
    "We would still like to get output maps with the same noise properties of the original focal plane, therefore we reduce the `NET` by multiplying by $\\sqrt{\\dfrac{7}{original\\_pixel\\_per\\_wafer}}$"
   ]
  },
  {
   "cell_type": "code",
   "execution_count": 84,
   "metadata": {},
   "outputs": [],
   "source": [
    "import pandas\n",
    "\n",
    "def splitDataFrameList(df,target_column,separator):\n",
    "    ''' df = dataframe to split,\n",
    "    target_column = the column containing the values to split\n",
    "    separator = the symbol used to perform the split\n",
    "    returns: a dataframe with each entry for the target column separated, with each element moved into a new row. \n",
    "    The values in the other columns are duplicated across the newly divided rows.\n",
    "    \n",
    "    From https://gist.github.com/jlln/338b4b0b55bd6984f883\n",
    "    '''\n",
    "    def splitListToRows(row,row_accumulator,target_column,separator):\n",
    "        split_row = row[target_column].split(separator)\n",
    "        for s in split_row:\n",
    "            new_row = row.to_dict()\n",
    "            new_row[target_column] = s\n",
    "            row_accumulator.append(new_row)\n",
    "    new_rows = []\n",
    "    df.apply(splitListToRows,axis=1,args = (new_rows,target_column,separator))\n",
    "    new_df = pandas.DataFrame(new_rows)\n",
    "    return new_df"
   ]
  },
  {
   "cell_type": "code",
   "execution_count": 85,
   "metadata": {},
   "outputs": [],
   "source": [
    "original_pixels = splitDataFrameList(original_pixels, 1, \",\").set_index(1)"
   ]
  },
  {
   "cell_type": "code",
   "execution_count": 86,
   "metadata": {},
   "outputs": [],
   "source": [
    "pixels = splitDataFrameList(pixels, 1, \",\").set_index(1)"
   ]
  },
  {
   "cell_type": "code",
   "execution_count": 87,
   "metadata": {},
   "outputs": [],
   "source": [
    "NET_scale_factor = np.sqrt(pixels[2] / original_pixels[2])"
   ]
  },
  {
   "cell_type": "code",
   "execution_count": 88,
   "metadata": {},
   "outputs": [
    {
     "data": {
      "text/plain": [
       "1\n",
       "1     1.000000\n",
       "3     1.000000\n",
       "5     1.000000\n",
       "2     1.000000\n",
       "4     1.000000\n",
       "6     1.000000\n",
       "7     0.606977\n",
       "9     0.606977\n",
       "11    0.606977\n",
       "8     0.434959\n",
       "10    0.434959\n",
       "12    0.434959\n",
       "13    0.203519\n",
       "15    0.203519\n",
       "17    0.203519\n",
       "14    0.234772\n",
       "16    0.234772\n",
       "18    0.234772\n",
       "19    0.234772\n",
       "20    0.234772\n",
       "21    0.234772\n",
       "Name: 2, dtype: float64"
      ]
     },
     "execution_count": 88,
     "metadata": {},
     "output_type": "execute_result"
    }
   ],
   "source": [
    "NET_scale_factor"
   ]
  },
  {
   "cell_type": "code",
   "execution_count": 89,
   "metadata": {},
   "outputs": [
    {
     "data": {
      "text/plain": [
       "1       94.700000\n",
       "10      13.962179\n",
       "11      16.206285\n",
       "12      11.439417\n",
       "13      10.155615\n",
       "14      13.147258\n",
       "15       8.486756\n",
       "16      12.982917\n",
       "17      14.042834\n",
       "18      33.102918\n",
       "19     108.112720\n",
       "2       86.600000\n",
       "20     428.694521\n",
       "21    2536.974732\n",
       "3       54.900000\n",
       "4       50.200000\n",
       "5       40.300000\n",
       "6       37.100000\n",
       "7       34.294199\n",
       "8       22.922331\n",
       "9       20.515822\n",
       "dtype: float64"
      ]
     },
     "execution_count": 89,
     "metadata": {},
     "output_type": "execute_result"
    }
   ],
   "source": [
    "(pd.to_numeric(bands[\"NET\"][1:]) * NET_scale_factor)"
   ]
  },
  {
   "cell_type": "code",
   "execution_count": 90,
   "metadata": {},
   "outputs": [],
   "source": [
    "bands[\"NET\"] = pd.to_numeric(bands[\"NET\"][1:]) * NET_scale_factor"
   ]
  },
  {
   "cell_type": "code",
   "execution_count": 91,
   "metadata": {},
   "outputs": [
    {
     "data": {
      "text/html": [
       "<div>\n",
       "<style scoped>\n",
       "    .dataframe tbody tr th:only-of-type {\n",
       "        vertical-align: middle;\n",
       "    }\n",
       "\n",
       "    .dataframe tbody tr th {\n",
       "        vertical-align: top;\n",
       "    }\n",
       "\n",
       "    .dataframe thead th {\n",
       "        text-align: right;\n",
       "    }\n",
       "</style>\n",
       "<table border=\"1\" class=\"dataframe\">\n",
       "  <thead>\n",
       "    <tr style=\"text-align: right;\">\n",
       "      <th></th>\n",
       "      <th>nu_center</th>\n",
       "      <th>nu_width</th>\n",
       "      <th>fwhm</th>\n",
       "      <th>pol_weight</th>\n",
       "      <th>NET</th>\n",
       "      <th>f_knee</th>\n",
       "      <th>f_min</th>\n",
       "      <th>alpha</th>\n",
       "    </tr>\n",
       "    <tr>\n",
       "      <th>band</th>\n",
       "      <th></th>\n",
       "      <th></th>\n",
       "      <th></th>\n",
       "      <th></th>\n",
       "      <th></th>\n",
       "      <th></th>\n",
       "      <th></th>\n",
       "      <th></th>\n",
       "    </tr>\n",
       "  </thead>\n",
       "  <tbody>\n",
       "    <tr>\n",
       "      <th>none</th>\n",
       "      <td>GHz</td>\n",
       "      <td>GHz</td>\n",
       "      <td>arcmin</td>\n",
       "      <td>uK_arcmin</td>\n",
       "      <td>NaN</td>\n",
       "      <td>mHz</td>\n",
       "      <td>mHz</td>\n",
       "      <td>none</td>\n",
       "    </tr>\n",
       "    <tr>\n",
       "      <th>1</th>\n",
       "      <td>21.0</td>\n",
       "      <td>5.2</td>\n",
       "      <td>38.4</td>\n",
       "      <td>16.3</td>\n",
       "      <td>94.700000</td>\n",
       "      <td>10.0</td>\n",
       "      <td>0.01</td>\n",
       "      <td>1.0</td>\n",
       "    </tr>\n",
       "    <tr>\n",
       "      <th>2</th>\n",
       "      <td>25.0</td>\n",
       "      <td>6.3</td>\n",
       "      <td>32.0</td>\n",
       "      <td>11.7</td>\n",
       "      <td>86.600000</td>\n",
       "      <td>10.0</td>\n",
       "      <td>0.01</td>\n",
       "      <td>1.0</td>\n",
       "    </tr>\n",
       "    <tr>\n",
       "      <th>3</th>\n",
       "      <td>30.0</td>\n",
       "      <td>7.5</td>\n",
       "      <td>28.3</td>\n",
       "      <td>7.8</td>\n",
       "      <td>54.900000</td>\n",
       "      <td>10.0</td>\n",
       "      <td>0.01</td>\n",
       "      <td>1.0</td>\n",
       "    </tr>\n",
       "    <tr>\n",
       "      <th>4</th>\n",
       "      <td>36.0</td>\n",
       "      <td>9.0</td>\n",
       "      <td>23.6</td>\n",
       "      <td>5.6</td>\n",
       "      <td>50.200000</td>\n",
       "      <td>10.0</td>\n",
       "      <td>0.01</td>\n",
       "      <td>1.0</td>\n",
       "    </tr>\n",
       "    <tr>\n",
       "      <th>5</th>\n",
       "      <td>43.2</td>\n",
       "      <td>10.8</td>\n",
       "      <td>22.2</td>\n",
       "      <td>5.4</td>\n",
       "      <td>40.300000</td>\n",
       "      <td>10.0</td>\n",
       "      <td>0.01</td>\n",
       "      <td>1.0</td>\n",
       "    </tr>\n",
       "    <tr>\n",
       "      <th>6</th>\n",
       "      <td>51.8</td>\n",
       "      <td>13.0</td>\n",
       "      <td>18.4</td>\n",
       "      <td>4.0</td>\n",
       "      <td>37.100000</td>\n",
       "      <td>10.0</td>\n",
       "      <td>0.01</td>\n",
       "      <td>1.0</td>\n",
       "    </tr>\n",
       "    <tr>\n",
       "      <th>7</th>\n",
       "      <td>62.2</td>\n",
       "      <td>15.6</td>\n",
       "      <td>12.8</td>\n",
       "      <td>3.9</td>\n",
       "      <td>34.294199</td>\n",
       "      <td>10.0</td>\n",
       "      <td>0.01</td>\n",
       "      <td>1.0</td>\n",
       "    </tr>\n",
       "    <tr>\n",
       "      <th>8</th>\n",
       "      <td>74.6</td>\n",
       "      <td>18.7</td>\n",
       "      <td>10.7</td>\n",
       "      <td>3.2</td>\n",
       "      <td>22.922331</td>\n",
       "      <td>10.0</td>\n",
       "      <td>0.01</td>\n",
       "      <td>1.0</td>\n",
       "    </tr>\n",
       "    <tr>\n",
       "      <th>9</th>\n",
       "      <td>89.6</td>\n",
       "      <td>22.4</td>\n",
       "      <td>9.5</td>\n",
       "      <td>2.0</td>\n",
       "      <td>20.515822</td>\n",
       "      <td>10.0</td>\n",
       "      <td>0.01</td>\n",
       "      <td>1.0</td>\n",
       "    </tr>\n",
       "    <tr>\n",
       "      <th>10</th>\n",
       "      <td>107.5</td>\n",
       "      <td>26.9</td>\n",
       "      <td>7.9</td>\n",
       "      <td>1.7</td>\n",
       "      <td>13.962179</td>\n",
       "      <td>10.0</td>\n",
       "      <td>0.01</td>\n",
       "      <td>1.0</td>\n",
       "    </tr>\n",
       "    <tr>\n",
       "      <th>11</th>\n",
       "      <td>129.0</td>\n",
       "      <td>32.3</td>\n",
       "      <td>7.4</td>\n",
       "      <td>1.6</td>\n",
       "      <td>16.206285</td>\n",
       "      <td>10.0</td>\n",
       "      <td>0.01</td>\n",
       "      <td>1.0</td>\n",
       "    </tr>\n",
       "    <tr>\n",
       "      <th>12</th>\n",
       "      <td>154.8</td>\n",
       "      <td>38.7</td>\n",
       "      <td>6.2</td>\n",
       "      <td>1.4</td>\n",
       "      <td>11.439417</td>\n",
       "      <td>10.0</td>\n",
       "      <td>0.01</td>\n",
       "      <td>1.0</td>\n",
       "    </tr>\n",
       "    <tr>\n",
       "      <th>13</th>\n",
       "      <td>185.8</td>\n",
       "      <td>46.5</td>\n",
       "      <td>4.3</td>\n",
       "      <td>2.5</td>\n",
       "      <td>10.155615</td>\n",
       "      <td>10.0</td>\n",
       "      <td>0.01</td>\n",
       "      <td>1.0</td>\n",
       "    </tr>\n",
       "    <tr>\n",
       "      <th>14</th>\n",
       "      <td>222.9</td>\n",
       "      <td>55.7</td>\n",
       "      <td>3.6</td>\n",
       "      <td>3.1</td>\n",
       "      <td>13.147258</td>\n",
       "      <td>10.0</td>\n",
       "      <td>0.01</td>\n",
       "      <td>1.0</td>\n",
       "    </tr>\n",
       "    <tr>\n",
       "      <th>15</th>\n",
       "      <td>267.5</td>\n",
       "      <td>66.9</td>\n",
       "      <td>3.2</td>\n",
       "      <td>2.0</td>\n",
       "      <td>8.486756</td>\n",
       "      <td>10.0</td>\n",
       "      <td>0.01</td>\n",
       "      <td>1.0</td>\n",
       "    </tr>\n",
       "    <tr>\n",
       "      <th>16</th>\n",
       "      <td>321.0</td>\n",
       "      <td>80.3</td>\n",
       "      <td>2.6</td>\n",
       "      <td>3.0</td>\n",
       "      <td>12.982917</td>\n",
       "      <td>10.0</td>\n",
       "      <td>0.01</td>\n",
       "      <td>1.0</td>\n",
       "    </tr>\n",
       "    <tr>\n",
       "      <th>17</th>\n",
       "      <td>385.2</td>\n",
       "      <td>96.3</td>\n",
       "      <td>2.5</td>\n",
       "      <td>3.3</td>\n",
       "      <td>14.042834</td>\n",
       "      <td>10.0</td>\n",
       "      <td>0.01</td>\n",
       "      <td>1.0</td>\n",
       "    </tr>\n",
       "    <tr>\n",
       "      <th>18</th>\n",
       "      <td>462.2</td>\n",
       "      <td>115.6</td>\n",
       "      <td>2.1</td>\n",
       "      <td>7.8</td>\n",
       "      <td>33.102918</td>\n",
       "      <td>10.0</td>\n",
       "      <td>0.01</td>\n",
       "      <td>1.0</td>\n",
       "    </tr>\n",
       "    <tr>\n",
       "      <th>19</th>\n",
       "      <td>554.7</td>\n",
       "      <td>138.7</td>\n",
       "      <td>1.5</td>\n",
       "      <td>44.1</td>\n",
       "      <td>108.112720</td>\n",
       "      <td>10.0</td>\n",
       "      <td>0.01</td>\n",
       "      <td>1.0</td>\n",
       "    </tr>\n",
       "    <tr>\n",
       "      <th>20</th>\n",
       "      <td>665.6</td>\n",
       "      <td>166.4</td>\n",
       "      <td>1.3</td>\n",
       "      <td>176.9</td>\n",
       "      <td>428.694521</td>\n",
       "      <td>10.0</td>\n",
       "      <td>0.01</td>\n",
       "      <td>1.0</td>\n",
       "    </tr>\n",
       "    <tr>\n",
       "      <th>21</th>\n",
       "      <td>798.7</td>\n",
       "      <td>199.7</td>\n",
       "      <td>1.1</td>\n",
       "      <td>1260.7</td>\n",
       "      <td>2536.974732</td>\n",
       "      <td>10.0</td>\n",
       "      <td>0.01</td>\n",
       "      <td>1.0</td>\n",
       "    </tr>\n",
       "  </tbody>\n",
       "</table>\n",
       "</div>"
      ],
      "text/plain": [
       "     nu_center nu_width    fwhm pol_weight          NET f_knee f_min alpha\n",
       "band                                                                      \n",
       "none       GHz      GHz  arcmin  uK_arcmin          NaN    mHz   mHz  none\n",
       "1         21.0      5.2    38.4       16.3    94.700000   10.0  0.01   1.0\n",
       "2         25.0      6.3    32.0       11.7    86.600000   10.0  0.01   1.0\n",
       "3         30.0      7.5    28.3        7.8    54.900000   10.0  0.01   1.0\n",
       "4         36.0      9.0    23.6        5.6    50.200000   10.0  0.01   1.0\n",
       "5         43.2     10.8    22.2        5.4    40.300000   10.0  0.01   1.0\n",
       "6         51.8     13.0    18.4        4.0    37.100000   10.0  0.01   1.0\n",
       "7         62.2     15.6    12.8        3.9    34.294199   10.0  0.01   1.0\n",
       "8         74.6     18.7    10.7        3.2    22.922331   10.0  0.01   1.0\n",
       "9         89.6     22.4     9.5        2.0    20.515822   10.0  0.01   1.0\n",
       "10       107.5     26.9     7.9        1.7    13.962179   10.0  0.01   1.0\n",
       "11       129.0     32.3     7.4        1.6    16.206285   10.0  0.01   1.0\n",
       "12       154.8     38.7     6.2        1.4    11.439417   10.0  0.01   1.0\n",
       "13       185.8     46.5     4.3        2.5    10.155615   10.0  0.01   1.0\n",
       "14       222.9     55.7     3.6        3.1    13.147258   10.0  0.01   1.0\n",
       "15       267.5     66.9     3.2        2.0     8.486756   10.0  0.01   1.0\n",
       "16       321.0     80.3     2.6        3.0    12.982917   10.0  0.01   1.0\n",
       "17       385.2     96.3     2.5        3.3    14.042834   10.0  0.01   1.0\n",
       "18       462.2    115.6     2.1        7.8    33.102918   10.0  0.01   1.0\n",
       "19       554.7    138.7     1.5       44.1   108.112720   10.0  0.01   1.0\n",
       "20       665.6    166.4     1.3      176.9   428.694521   10.0  0.01   1.0\n",
       "21       798.7    199.7     1.1     1260.7  2536.974732   10.0  0.01   1.0"
      ]
     },
     "execution_count": 91,
     "metadata": {},
     "output_type": "execute_result"
    }
   ],
   "source": [
    "bands"
   ]
  },
  {
   "cell_type": "code",
   "execution_count": 92,
   "metadata": {},
   "outputs": [],
   "source": [
    "bands.to_csv(\"bands.txt\", sep=\" \")"
   ]
  },
  {
   "cell_type": "markdown",
   "metadata": {},
   "source": [
    "## Prepare the slurm scripts\n",
    "\n",
    "We need to use a template and fill in what we need to run the other 20 bands.\n",
    "\n",
    "* change the band and the output folder for each band\n",
    "* set the sampling frequency to 63 for all channels beside the lowest bands which already have a lower rate\n",
    "* scale the number of nodes based on the total number of wafers\n",
    "\n"
   ]
  },
  {
   "cell_type": "code",
   "execution_count": 100,
   "metadata": {},
   "outputs": [],
   "source": [
    "wafer_count = pd.read_csv(\"wafer_count.txt\", delim_whitespace=True, header=None).set_index(0).to_dict()[1]"
   ]
  },
  {
   "cell_type": "code",
   "execution_count": 101,
   "metadata": {},
   "outputs": [
    {
     "data": {
      "text/plain": [
       "{'A': 10, 'B': 14, 'C': 18, 'D': 12, 'E': 3, 'F': 3, 'GHI': 1}"
      ]
     },
     "execution_count": 101,
     "metadata": {},
     "output_type": "execute_result"
    }
   ],
   "source": [
    "wafer_count"
   ]
  },
  {
   "cell_type": "markdown",
   "metadata": {},
   "source": [
    "I already ran band 9 which is of type `C` which has the highest number of channels total.\n",
    "and this used 730 nodes.\n",
    "\n",
    "We want to scale the total number of nodes by the ratio of the wafer count."
   ]
  },
  {
   "cell_type": "code",
   "execution_count": 132,
   "metadata": {},
   "outputs": [],
   "source": [
    "from jinja2 import Template"
   ]
  },
  {
   "cell_type": "code",
   "execution_count": 142,
   "metadata": {},
   "outputs": [],
   "source": [
    "with open(\"pico_slurm.sh.j2\") as f:\n",
    "    slurm_template = Template(f.read())"
   ]
  },
  {
   "cell_type": "code",
   "execution_count": 143,
   "metadata": {},
   "outputs": [
    {
     "name": "stdout",
     "output_type": "stream",
     "text": [
      "Band 1, A, 10 wafers has scale of 0.5555555555555556, 42.0 Hz NODES 405\n",
      "Band 2, B, 14 wafers has scale of 0.7777777777777778, 51.0 Hz NODES 567\n",
      "Band 3, A, 10 wafers has scale of 0.5555555555555556, 42.0 Hz NODES 405\n",
      "Band 4, B, 14 wafers has scale of 0.7777777777777778, 51.0 Hz NODES 567\n",
      "Band 5, A, 10 wafers has scale of 0.5555555555555556, 42.0 Hz NODES 405\n",
      "Band 6, B, 14 wafers has scale of 0.7777777777777778, 51.0 Hz NODES 567\n",
      "Band 7, C, 18 wafers has scale of 1.0, 63.0 Hz NODES 730\n",
      "Band 8, D, 12 wafers has scale of 0.6666666666666666, 63.0 Hz NODES 486\n",
      "Band 9, C, 18 wafers has scale of 1.0, 63.0 Hz NODES 730\n",
      "Band 10, D, 12 wafers has scale of 0.6666666666666666, 63.0 Hz NODES 486\n",
      "Band 11, C, 18 wafers has scale of 1.0, 63.0 Hz NODES 730\n",
      "Band 12, D, 12 wafers has scale of 0.6666666666666666, 63.0 Hz NODES 486\n",
      "Band 13, E, 3 wafers has scale of 0.16666666666666666, 63.0 Hz NODES 121\n",
      "Band 14, F, 3 wafers has scale of 0.16666666666666666, 63.0 Hz NODES 121\n",
      "Band 15, E, 3 wafers has scale of 0.16666666666666666, 63.0 Hz NODES 121\n",
      "Band 16, F, 3 wafers has scale of 0.16666666666666666, 63.0 Hz NODES 121\n",
      "Band 17, E, 3 wafers has scale of 0.16666666666666666, 63.0 Hz NODES 121\n",
      "Band 18, F, 3 wafers has scale of 0.16666666666666666, 63.0 Hz NODES 121\n",
      "Band 19, GHI, 1 wafers has scale of 0.05555555555555555, 63.0 Hz NODES 40\n",
      "Band 20, GHI, 1 wafers has scale of 0.05555555555555555, 63.0 Hz NODES 40\n",
      "Band 21, GHI, 1 wafers has scale of 0.05555555555555555, 63.0 Hz NODES 40\n"
     ]
    }
   ],
   "source": [
    "for band in range(1,22):\n",
    "    band_str = str(band)\n",
    "    pix_type = pixels.loc[str(band)][0]\n",
    "    samplerate = pixels.loc[str(band)][3]\n",
    "    pix_wafer_count = wafer_count.get(pix_type, 1)\n",
    "    pix_wafer_scale = pix_wafer_count / 18\n",
    "    nodes = int(np.ceil(730 * pix_wafer_scale /2)*2)\n",
    "    # need even nodes\n",
    "    rendered = slurm_template.render(nodes=nodes, samplerate=samplerate, band=band_str)\n",
    "    with open(f\"slurm_scripts/{band:02d}.slurm\", \"w\") as out_f:\n",
    "        out_f.write(rendered)\n",
    "    print(f\"Band {band}, {pix_type}, {pix_wafer_count} wafers has scale of {pix_wafer_scale}, {samplerate} Hz NODES {nodes}\")"
   ]
  },
  {
   "cell_type": "code",
   "execution_count": 144,
   "metadata": {},
   "outputs": [],
   "source": [
    "rm slurm_scripts/10.slurm"
   ]
  },
  {
   "cell_type": "code",
   "execution_count": 145,
   "metadata": {},
   "outputs": [
    {
     "name": "stdout",
     "output_type": "stream",
     "text": [
      "01.slurm  04.slurm  07.slurm  11.slurm  14.slurm  17.slurm  20.slurm\r\n",
      "02.slurm  05.slurm  08.slurm  12.slurm  15.slurm  18.slurm  21.slurm\r\n",
      "03.slurm  06.slurm  09.slurm  13.slurm  16.slurm  19.slurm\r\n"
     ]
    }
   ],
   "source": [
    "ls slurm_scripts/"
   ]
  },
  {
   "cell_type": "code",
   "execution_count": null,
   "metadata": {},
   "outputs": [],
   "source": []
  }
 ],
 "metadata": {
  "kernelspec": {
   "display_name": "condajupynersc",
   "language": "python",
   "name": "condajupynersc"
  },
  "language_info": {
   "codemirror_mode": {
    "name": "ipython",
    "version": 3
   },
   "file_extension": ".py",
   "mimetype": "text/x-python",
   "name": "python",
   "nbconvert_exporter": "python",
   "pygments_lexer": "ipython3",
   "version": "3.6.3"
  }
 },
 "nbformat": 4,
 "nbformat_minor": 2
}
